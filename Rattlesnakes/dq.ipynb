{
 "cells": [
  {
   "cell_type": "markdown",
   "metadata": {},
   "source": [
    "# Geometric algebra\n",
    "1. Complex numbers and rotations in 2D\n",
    "2. Matrices and affine operations in 2D\n",
    "3. Quaternion numbers and rotations in 3D\n",
    "4. Matrices and affine operations in 3D"
   ]
  },
  {
   "cell_type": "markdown",
   "metadata": {},
   "source": [
    "# Quaternions 4 rotations in 3D\n",
    "\n",
    "Let $q = (w, ix, jy, kz)$ be a quadruplet of real numbers where $i^2 = j^2 = k^2 = ijk = -1$ (cf. Brougham Bridge carving)"
   ]
  },
  {
   "cell_type": "code",
   "execution_count": 1,
   "metadata": {},
   "outputs": [
    {
     "name": "stdout",
     "output_type": "stream",
     "text": [
      "quaternion(0.5, 0.5, 0.5, 0.5) quaternion(0, 0.577350269189626, 0.577350269189626, 0.577350269189626)\n",
      "q2 = quaternion(0, 0.577350269189626, 0.577350269189626, 0.577350269189626) has a norm 1.0 and hence is normalized\n",
      "multiplied = quaternion(-0.866025403784439, 0.288675134594813, 0.288675134594813, 0.288675134594813)\n",
      "de-multiplied = quaternion(0.5, 0.5, 0.5, 0.5)\n",
      "0.0 0.0 90.0\n",
      "0.0 45.0 0.0\n",
      "90.0 45.00000000000001 -90.0\n"
     ]
    }
   ],
   "source": [
    "# https://github.com/moble/quaternion/tree/main/src/quaternion\n",
    "import numpy as np\n",
    "import quaternion\n",
    "from math import sin, cos, isclose, pi as π\n",
    "\n",
    "def rotation(q: quaternion, r: quaternion):\n",
    "    return r * q * r.conjugate()/r.norm()\n",
    "\n",
    "\n",
    "q1, q2 = (np.quaternion(1/2, 1/2, 1/2, 1/2),\n",
    "          np.quaternion(0, np.sqrt(1/3), np.sqrt(1/3), np.sqrt(1/3)))\n",
    "print(q1, q2)\n",
    "print(f\"q2 = {q2} has a norm {q2.abs()} and hence is{' ' if isclose(q2.abs(), 1.0) else ' not '}normalized\")\n",
    "q = q1 * q2\n",
    "print(f'multiplied = {q}')\n",
    "q1 = q * q2.conjugate()\n",
    "print(f'de-multiplied = {q1}')\n",
    "\n",
    "\n",
    "#           π/2,  π/4,  π/8\n",
    "a, b, c = 0.0, 0.0, 90.0\n",
    "α, β, γ = np.deg2rad((a, b, c))\n",
    "qr = quaternion.from_euler_angles(α, β, γ)\n",
    "print(a, b, c)\n",
    "\n",
    "a, b, c = 0.0, 45.0, 0.0\n",
    "α, β, γ = np.deg2rad((a, b, c))\n",
    "ang = quaternion.from_euler_angles(α, β, γ)\n",
    "# np.quaternion(0, 0, 1, 0)\n",
    "#a, b, c = np.rad2deg(quaternion.as_euler_angles(ang))\n",
    "print(a, b, c)\n",
    "\n",
    "rq = rotation(ang, qr)\n",
    "\n",
    "a, b, c = np.rad2deg(quaternion.as_euler_angles(rq))\n",
    "print(a, b, c)\n"
   ]
  }
 ],
 "metadata": {
  "kernelspec": {
   "display_name": "Python 3",
   "language": "python",
   "name": "python3"
  },
  "language_info": {
   "codemirror_mode": {
    "name": "ipython",
    "version": 3
   },
   "file_extension": ".py",
   "mimetype": "text/x-python",
   "name": "python",
   "nbconvert_exporter": "python",
   "pygments_lexer": "ipython3",
   "version": "3.10.10"
  }
 },
 "nbformat": 4,
 "nbformat_minor": 2
}
